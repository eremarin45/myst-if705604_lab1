{
 "cells": [
  {
   "cell_type": "code",
   "execution_count": null,
   "outputs": [],
   "source": [
    "<font color= #555555> <font size = 5> Abstract </font>\n",
    "<font color= #6B6B6B> <font size = 2> Este documento fue elaborado por Erendira Marin Haro, como un trabajo parcial para la materia de Microestructura y Sistemas de Trading - ITE1731, la cual es parte del curriculum de la licenciatura en Ingeniería Financiera, ofertada por la universidad ITESO. En el presente trabajo se plantea la respuesta a la siguiente pregutna: ¿Qué estrategia de inversión propondrías si tu trabajo fuera administrar 1 Millón de pesos?</font>"
   ],
   "metadata": {
    "collapsed": false,
    "pycharm": {
     "name": "#%%\n"
    }
   }
  },
  {
   "cell_type": "code",
   "execution_count": null,
   "outputs": [],
   "source": [
    "<font color= #6B6B6B> <font size = 6> 0. Librerías y Dependencias </font>\n",
    "<font color= #6B6B6B> <font size = 5> 0.1 Librerías </font> <font color= #555555>\n",
    "Para correr este notebook es necesario tener instaladas y/o en el archivo requirements.txt las siguientes librerías :\n",
    "\n",
    "pandas>=1.1.1\n",
    "numpy>=1.19.1\n",
    "jupyter>=1.0.0\n",
    "yfinance>=0.1.54"
   ],
   "metadata": {
    "collapsed": false,
    "pycharm": {
     "name": "#%%\n"
    }
   }
  },
  {
   "cell_type": "code",
   "execution_count": null,
   "metadata": {
    "pycharm": {
     "name": "#%%\n"
    }
   },
   "outputs": [],
   "source": [
    "import pandas as pd\n",
    "from datetime import datetime\n",
    "from os import path, listdir\n",
    "from os.path import isfile, join\n",
    "import numpy as np\n",
    "import time\n",
    "import yfinance as yf"
   ]
  },
  {
   "cell_type": "markdown",
   "metadata": {
    "pycharm": {
     "name": "#%%\n"
    }
   },
   "source": [
    "<font color= #6B6B6B> <font size = 5> 0.2 Dependencias </font> <font color= #555555>\n",
    "\n",
    "Para correr este notebook es necesario contar con los siguientes archivos y dependencias externas:\n",
    "\n",
    "files/precios.csv : Precios históricos\n",
    "files/datos.txt : Otros datos históricos"
   ]
  },
  {
   "cell_type": "markdown",
   "metadata": {
    "pycharm": {
     "name": "#%%\n"
    }
   },
   "source": [
    "<font color= #6B6B6B> <font size = 6> 1. Introducción </font>\n",
    "\n",
    " En el notebook se presentan dos escenarios para la inverison propuesta de 1 millon de precios\n",
    " La primera es con inversion pasiva, donde no hay cambios en el tiempo y se intenta replicar el indice.\n",
    " la segunda es activa, haciendo ccambios en la inversion utilizando solo un activo de ejemplo, buscando minimizar aun mas el riesgo y maximizar el rendimiento.\n"
   ]
  },
  {
   "cell_type": "markdown",
   "metadata": {
    "pycharm": {
     "name": "#%%\n"
    }
   },
   "source": [
    "<font color= #6B6B6B> <font size = 6> 2. Objetivos </font>\n",
    "\n",
    "Hacer comparativa de los dos tipos de inversion, ¿será que se puede minimizar mas el riesgo con alguna de las dos? ¿Y maximizar el rendimiento?"
   ]
  },
  {
   "cell_type": "markdown",
   "metadata": {
    "pycharm": {
     "name": "#%%\n"
    }
   },
   "source": [
    "<font color= #6B6B6B> <font size = 6> 3. Datos </font>\n",
    "\n",
    "    # Opcional incluir código para mostrar/visualizar los datos con los que se trabajó en el laboratorio"
   ]
  },
  {
   "cell_type": "code",
   "execution_count": null,
   "metadata": {},
   "outputs": [],
   "source": []
  },
  {
   "cell_type": "code",
   "execution_count": null,
   "metadata": {
    "pycharm": {
     "name": "#%%\n"
    }
   },
   "outputs": [],
   "source": [
    "<font color= #6B6B6B> <font size = 6> 4. Procesos </font>\n",
    "In [2]:\n",
    "# Secuencia de main.py.\n",
    "# tomando los pasos en los que fuiste haciendo todos los calculos\n",
    "# y poniendo cada uno como un subtitulo con markdown de nivel dos, así ## subtitulo de mi paso\n",
    "\n",
    "import data as dt\n",
    "import functions as fn\n",
    "import numpy as np\n",
    "import pandas as pd\n",
    "import yfinance as yf\n",
    "import os\n",
    "\n",
    "# ------------------------ Paso 1.1\n",
    "# Obtener lista de archivos a leer\n",
    "archivos = dt.archivos\n",
    "\n",
    "# ------------------------ Paso 1.2\n",
    "# Leer todos los archivos y guardarlos en un diccionario\n",
    "data_archivos = dt.data_archivos\n",
    "\n",
    "# ------------------------ Paso 1.3\n",
    "# Construir vector de fechas a partir del vector de nombres de archivos\n",
    "fechas = fn.fechas_i(archivos)\n",
    "diario = pd.date_range(start=fn.fechas_i(archivos)[0], end=fn.fechas_i(archivos)[-1])\n",
    "diario = diario.strftime('%Y-%m-%d')\n",
    "\n",
    "# formato 2\n",
    "fechas = fn.fechas_j(archivos)\n",
    "diario = pd.date_range(start=fn.fechas_j(archivos)[0], end=fn.fechas_j(archivos)[-1])\n",
    "diario = diario.strftime('%Y-%m-%d')\n",
    "\n",
    "# mostrar las primeras 5 fechas formato 1\n",
    "print(fechas['fechas_i'][0:4])\n",
    "\n",
    "# mostrar las primeras 5 fechas formato 2\n",
    "print(fechas['fechas_j'][0:4])\n",
    "\n",
    "# ------------------------ Paso 1.4\n",
    "#  Construir el vector de tickers que vamos a utilizar en yfinance\n",
    "tickers = fn.global_tickers(archivos)\n",
    "\n",
    "# ------------------------ Paso 1.5\n",
    "# Descargar y acomodar todos los precios historicos\n",
    "precios = fn.preciosyf(archivos)\n",
    "precio_c = fn.preciosyf[0]\n",
    "\n",
    "# ------------------------ Paso 1.6\n",
    "# inversion pasiva\n",
    "k = 1000000\n",
    "c = 0.00125"
   ]
  },
  {
   "cell_type": "code",
   "execution_count": null,
   "outputs": [],
   "source": [
    "<font color= #6B6B6B> <font size = 6> 5. Conclusiones </font>"
   ],
   "metadata": {
    "collapsed": false,
    "pycharm": {
     "name": "#%%\n"
    }
   }
  },
  {
   "cell_type": "code",
   "execution_count": null,
   "metadata": {
    "pycharm": {
     "name": "#%%\n"
    }
   },
   "outputs": [],
   "source": [
    "<font color= #6B6B6B> <font size = 6> 5. Conclusiones </font>"
   ]
  }
 ],
 "metadata": {
  "kernelspec": {
   "display_name": "Python 3",
   "language": "python",
   "name": "python3"
  },
  "language_info": {
   "codemirror_mode": {
    "name": "ipython",
    "version": 2
   },
   "file_extension": ".py",
   "mimetype": "text/x-python",
   "name": "python",
   "nbconvert_exporter": "python",
   "pygments_lexer": "ipython2",
   "version": "2.7.6"
  }
 },
 "nbformat": 4,
 "nbformat_minor": 1
}