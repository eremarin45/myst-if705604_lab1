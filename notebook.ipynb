{
 "cells": [
  {
   "cell_type": "code",
   "execution_count": null,
   "outputs": [],
   "source": [
    "import pandas as pd\n",
    "from datetime import datetime\n",
    "from os import path, listdir\n",
    "from os.path import isfile, join\n",
    "import numpy as np\n",
    "import time\n",
    "import yfinance as yf"
   ],
   "metadata": {
    "collapsed": false,
    "pycharm": {
     "name": "#%%\n"
    }
   }
  },
  {
   "cell_type": "code",
   "execution_count": null,
   "outputs": [],
   "source": [
    "<font color= #6B6B6B> <font size = 5> 0.2 Dependencias </font> <font color= #555555>\n",
    "Para correr este notebook es necesario contar con los siguientes archivos y dependencias externas:\n",
    "\n",
    "files/precios.csv : Precios históricos\n",
    "files/datos.txt : Otros datos históricos"
   ],
   "metadata": {
    "collapsed": false,
    "pycharm": {
     "name": "#%%\n"
    }
   }
  },
  {
   "cell_type": "code",
   "execution_count": null,
   "outputs": [],
   "source": [
    "<font color= #6B6B6B> <font size = 6> 1. Introducción </font>\n",
    "## En el notebook se presentan dos escenarios para la inverison propuesta de 1 millon de precios\n",
    "## La primera es con inversion pasiva, donde no hay cambios en el tiempo y se intenta replicar el indice.\n",
    "## la segunda es activa, haciendo ccambios en la inversion utilizando solo un activo de ejemplo, buscando minimizar aun mas el riesgo y maximizar el rendimiento.\n"
   ],
   "metadata": {
    "collapsed": false,
    "pycharm": {
     "name": "#%%\n"
    }
   }
  },
  {
   "cell_type": "code",
   "execution_count": null,
   "outputs": [],
   "source": [
    "<font color= #6B6B6B> <font size = 6> 2. Objetivos </font>\n",
    "## Hacer comparativa de los dos tipos de inversion, ¿será que se puede minimizar mas el riesgo con alguna de las dos? ¿Y maximizar el rendimiento?"
   ],
   "metadata": {
    "collapsed": false,
    "pycharm": {
     "name": "#%%\n"
    }
   }
  },
  {
   "cell_type": "code",
   "execution_count": null,
   "outputs": [],
   "source": [
    "<font color= #6B6B6B> <font size = 6> 3. Datos </font>\n",
    "# Opcional incluir código para mostrar/visualizar\n",
    "# los datos con los que se trabajó en el laboratorio\n",
    "datos = pd.read_csv(\"datos.txt\", index_col = \"Date\")\n",
    "datos.head(4)"
   ],
   "metadata": {
    "collapsed": false,
    "pycharm": {
     "name": "#%%\n"
    }
   }
  },
  {
   "cell_type": "code",
   "execution_count": null,
   "outputs": [],
   "source": [
    "<font color= #6B6B6B> <font size = 6> 4. Procesos </font>\n",
    "In [2]:\n",
    "# Secuencia de main.py.\n",
    "# tomando los pasos en los que fuiste haciendo todos los calculos\n",
    "# y poniendo cada uno como un subtitulo con markdown de nivel dos, así ## subtitulo de mi paso"
   ],
   "metadata": {
    "collapsed": false,
    "pycharm": {
     "name": "#%%\n"
    }
   }
  },
  {
   "cell_type": "code",
   "execution_count": null,
   "outputs": [],
   "source": [
    "<font color= #6B6B6B> <font size = 6> 5. Conclusiones </font>"
   ],
   "metadata": {
    "collapsed": false,
    "pycharm": {
     "name": "#%%\n"
    }
   }
  }
 ],
 "metadata": {
  "kernelspec": {
   "display_name": "Python 3",
   "language": "python",
   "name": "python3"
  },
  "language_info": {
   "codemirror_mode": {
    "name": "ipython",
    "version": 2
   },
   "file_extension": ".py",
   "mimetype": "text/x-python",
   "name": "python",
   "nbconvert_exporter": "python",
   "pygments_lexer": "ipython2",
   "version": "2.7.6"
  },
  "pycharm": {
   "stem_cell": {
    "cell_type": "raw",
    "source": [
     "<font color= #555555> <font size = 5> Abstract </font>\n",
     "<font color= #6B6B6B> <font size = 2> Este documento fue elaborado por Erendira Marin Haro, como un trabajo parcial para la materia de Microestructura y Sistemas de Trading - ITE1731, la cual es parte del curriculum de la licenciatura en Ingeniería Financiera, ofertada por la universidad ITESO. En el presente trabajo se plantea la respuesta a la siguiente pregutna: ¿Qué estrategia de inversión propondrías si tu trabajo fuera administrar 1 Millón de pesos?</font>\n",
     "\n",
     "\n",
     "\n",
     "<font color= #6B6B6B> <font size = 6> 0. Librerías y Dependencias </font>\n",
     "<font color= #6B6B6B> <font size = 5> 0.1 Librerías </font> <font color= #555555>\n",
     "Para correr este notebook es necesario tener instaladas y/o en el archivo requirements.txt las siguientes librerías :\n",
     "\n",
     "pandas>=1.1.1\n",
     "numpy>=1.19.1\n",
     "jupyter>=1.0.0\n",
     "yfinance>=0.1.54"
    ],
    "metadata": {
     "collapsed": false
    }
   }
  }
 },
 "nbformat": 4,
 "nbformat_minor": 0
}